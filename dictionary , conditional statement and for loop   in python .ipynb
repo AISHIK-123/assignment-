{
 "cells": [
  {
   "cell_type": "code",
   "execution_count": 1,
   "id": "236df2a8",
   "metadata": {},
   "outputs": [],
   "source": [
    "d={}"
   ]
  },
  {
   "cell_type": "code",
   "execution_count": 2,
   "id": "68b441c0",
   "metadata": {},
   "outputs": [
    {
     "data": {
      "text/plain": [
       "dict"
      ]
     },
     "execution_count": 2,
     "metadata": {},
     "output_type": "execute_result"
    }
   ],
   "source": [
    "type(d)"
   ]
  },
  {
   "cell_type": "code",
   "execution_count": 5,
   "id": "e18e69f4",
   "metadata": {},
   "outputs": [],
   "source": [
    "d1={\"key\":\"atomic\"}"
   ]
  },
  {
   "cell_type": "code",
   "execution_count": 6,
   "id": "b35d1d97",
   "metadata": {},
   "outputs": [
    {
     "data": {
      "text/plain": [
       "{'key': 'atomic'}"
      ]
     },
     "execution_count": 6,
     "metadata": {},
     "output_type": "execute_result"
    }
   ],
   "source": [
    "d1"
   ]
  },
  {
   "cell_type": "code",
   "execution_count": 7,
   "id": "d82359f1",
   "metadata": {},
   "outputs": [],
   "source": [
    "d2={\"name\":\"emergy\",\"email\":\"aishikpal5@gmail.com\",\"number\":\"89721768009\"}"
   ]
  },
  {
   "cell_type": "code",
   "execution_count": 8,
   "id": "44e57fdb",
   "metadata": {},
   "outputs": [
    {
     "data": {
      "text/plain": [
       "{'name': 'emergy', 'email': 'aishikpal5@gmail.com', 'number': '89721768009'}"
      ]
     },
     "execution_count": 8,
     "metadata": {},
     "output_type": "execute_result"
    }
   ],
   "source": [
    "d2"
   ]
  },
  {
   "cell_type": "code",
   "execution_count": 10,
   "id": "53932c98",
   "metadata": {},
   "outputs": [],
   "source": [
    "d3={234:\"987\",\"_user\":\"kumar\",True:123433}"
   ]
  },
  {
   "cell_type": "code",
   "execution_count": 11,
   "id": "d78b76ab",
   "metadata": {},
   "outputs": [
    {
     "data": {
      "text/plain": [
       "{234: '987', '_user': 'kumar', True: 123433}"
      ]
     },
     "execution_count": 11,
     "metadata": {},
     "output_type": "execute_result"
    }
   ],
   "source": [
    "d3"
   ]
  },
  {
   "cell_type": "code",
   "execution_count": 13,
   "id": "8efaeb6f",
   "metadata": {},
   "outputs": [
    {
     "data": {
      "text/plain": [
       "{234: '987', '_user': 'kumar', True: 123433}"
      ]
     },
     "execution_count": 13,
     "metadata": {},
     "output_type": "execute_result"
    }
   ],
   "source": [
    "d3"
   ]
  },
  {
   "cell_type": "code",
   "execution_count": 14,
   "id": "ec9bcb12",
   "metadata": {},
   "outputs": [
    {
     "data": {
      "text/plain": [
       "'987'"
      ]
     },
     "execution_count": 14,
     "metadata": {},
     "output_type": "execute_result"
    }
   ],
   "source": [
    "d3[234]"
   ]
  },
  {
   "cell_type": "code",
   "execution_count": 16,
   "id": "30473ae9",
   "metadata": {},
   "outputs": [
    {
     "data": {
      "text/plain": [
       "'kumar'"
      ]
     },
     "execution_count": 16,
     "metadata": {},
     "output_type": "execute_result"
    }
   ],
   "source": [
    "d3['_user']"
   ]
  },
  {
   "cell_type": "code",
   "execution_count": 17,
   "id": "494ecd07",
   "metadata": {},
   "outputs": [
    {
     "data": {
      "text/plain": [
       "123433"
      ]
     },
     "execution_count": 17,
     "metadata": {},
     "output_type": "execute_result"
    }
   ],
   "source": [
    "d3[1]"
   ]
  },
  {
   "cell_type": "code",
   "execution_count": 18,
   "id": "93f246ba",
   "metadata": {},
   "outputs": [
    {
     "data": {
      "text/plain": [
       "123433"
      ]
     },
     "execution_count": 18,
     "metadata": {},
     "output_type": "execute_result"
    }
   ],
   "source": [
    "d3[True]"
   ]
  },
  {
   "cell_type": "code",
   "execution_count": 22,
   "id": "2a7299f3",
   "metadata": {},
   "outputs": [],
   "source": [
    "d4={'name':\"pro\",'eamil id':\"@gmail.com\",'name':\"pronoy\"}"
   ]
  },
  {
   "cell_type": "code",
   "execution_count": 23,
   "id": "1f5587a5",
   "metadata": {},
   "outputs": [
    {
     "data": {
      "text/plain": [
       "{'name': 'pronoy', 'eamil id': '@gmail.com'}"
      ]
     },
     "execution_count": 23,
     "metadata": {},
     "output_type": "execute_result"
    }
   ],
   "source": [
    "d4"
   ]
  },
  {
   "cell_type": "code",
   "execution_count": 25,
   "id": "6e20fece",
   "metadata": {},
   "outputs": [
    {
     "data": {
      "text/plain": [
       "'pronoy'"
      ]
     },
     "execution_count": 25,
     "metadata": {},
     "output_type": "execute_result"
    }
   ],
   "source": [
    "d4['name']"
   ]
  },
  {
   "cell_type": "code",
   "execution_count": 27,
   "id": "0df9ae62",
   "metadata": {},
   "outputs": [
    {
     "data": {
      "text/plain": [
       "'pronoy'"
      ]
     },
     "execution_count": 27,
     "metadata": {},
     "output_type": "execute_result"
    }
   ],
   "source": [
    "d4['name']    #keys should be unique in dictionary "
   ]
  },
  {
   "cell_type": "code",
   "execution_count": 37,
   "id": "01d7c8bb",
   "metadata": {},
   "outputs": [],
   "source": [
    "d5 = {\"company\":\"pw skills\",\"courses\":[\"data science\",\" DSA\" , \"web development\"]}"
   ]
  },
  {
   "cell_type": "code",
   "execution_count": 38,
   "id": "2808a29e",
   "metadata": {},
   "outputs": [
    {
     "data": {
      "text/plain": [
       "{'company': 'pw skills',\n",
       " 'courses': ['data science', ' DSA', 'web development']}"
      ]
     },
     "execution_count": 38,
     "metadata": {},
     "output_type": "execute_result"
    }
   ],
   "source": [
    "d5"
   ]
  },
  {
   "cell_type": "code",
   "execution_count": 39,
   "id": "38ad7968",
   "metadata": {},
   "outputs": [
    {
     "data": {
      "text/plain": [
       "'pw skills'"
      ]
     },
     "execution_count": 39,
     "metadata": {},
     "output_type": "execute_result"
    }
   ],
   "source": [
    "d5['company']"
   ]
  },
  {
   "cell_type": "code",
   "execution_count": 40,
   "id": "0dc6e05e",
   "metadata": {},
   "outputs": [
    {
     "data": {
      "text/plain": [
       "['data science', ' DSA', 'web development']"
      ]
     },
     "execution_count": 40,
     "metadata": {},
     "output_type": "execute_result"
    }
   ],
   "source": [
    "d5['courses']"
   ]
  },
  {
   "cell_type": "code",
   "execution_count": 41,
   "id": "de65920e",
   "metadata": {},
   "outputs": [
    {
     "data": {
      "text/plain": [
       "'web development'"
      ]
     },
     "execution_count": 41,
     "metadata": {},
     "output_type": "execute_result"
    }
   ],
   "source": [
    "d5['courses'][2]"
   ]
  },
  {
   "cell_type": "code",
   "execution_count": 47,
   "id": "00e409db",
   "metadata": {},
   "outputs": [],
   "source": [
    "d6={\"number\":[1,2,3,4,5,6,7,8],\"assignment\":(1,2,4,7,9,6,4,2,1),\"launch data\":{23,45,78},\"class timing\":{\"web development\":3,\"data science\":9,\"java with system design\":9}}"
   ]
  },
  {
   "cell_type": "code",
   "execution_count": 44,
   "id": "6195fac2",
   "metadata": {},
   "outputs": [
    {
     "data": {
      "text/plain": [
       "{'number': [1, 2, 3, 4, 5, 6, 7, 8],\n",
       " 'assignment': (1, 2, 4, 7, 9, 6, 4, 2, 1),\n",
       " 'launch data': (23, 45, 78)}"
      ]
     },
     "execution_count": 44,
     "metadata": {},
     "output_type": "execute_result"
    }
   ],
   "source": [
    "d6"
   ]
  },
  {
   "cell_type": "code",
   "execution_count": 48,
   "id": "fd1fd128",
   "metadata": {},
   "outputs": [
    {
     "data": {
      "text/plain": [
       "{'number': [1, 2, 3, 4, 5, 6, 7, 8],\n",
       " 'assignment': (1, 2, 4, 7, 9, 6, 4, 2, 1),\n",
       " 'launch data': {23, 45, 78},\n",
       " 'class timing': {'web development': 3,\n",
       "  'data science': 9,\n",
       "  'java with system design': 9}}"
      ]
     },
     "execution_count": 48,
     "metadata": {},
     "output_type": "execute_result"
    }
   ],
   "source": [
    "d6"
   ]
  },
  {
   "cell_type": "code",
   "execution_count": 49,
   "id": "e9e45ac9",
   "metadata": {},
   "outputs": [
    {
     "data": {
      "text/plain": [
       "{'web development': 3, 'data science': 9, 'java with system design': 9}"
      ]
     },
     "execution_count": 49,
     "metadata": {},
     "output_type": "execute_result"
    }
   ],
   "source": [
    "d6['class timing']"
   ]
  },
  {
   "cell_type": "code",
   "execution_count": 50,
   "id": "79c4ed90",
   "metadata": {},
   "outputs": [
    {
     "data": {
      "text/plain": [
       "9"
      ]
     },
     "execution_count": 50,
     "metadata": {},
     "output_type": "execute_result"
    }
   ],
   "source": [
    "d6['class timing']['java with system design']"
   ]
  },
  {
   "cell_type": "code",
   "execution_count": 51,
   "id": "f622008e",
   "metadata": {},
   "outputs": [],
   "source": [
    "d6['mentor']=[\"sudhansgu\",\"krish\",\"anurag\",\"hyder\"]"
   ]
  },
  {
   "cell_type": "code",
   "execution_count": 52,
   "id": "22b80a3e",
   "metadata": {},
   "outputs": [
    {
     "data": {
      "text/plain": [
       "{'number': [1, 2, 3, 4, 5, 6, 7, 8],\n",
       " 'assignment': (1, 2, 4, 7, 9, 6, 4, 2, 1),\n",
       " 'launch data': {23, 45, 78},\n",
       " 'class timing': {'web development': 3,\n",
       "  'data science': 9,\n",
       "  'java with system design': 9},\n",
       " 'mentor': ['sudhansgu', 'krish', 'anurag', 'hyder']}"
      ]
     },
     "execution_count": 52,
     "metadata": {},
     "output_type": "execute_result"
    }
   ],
   "source": [
    "d6"
   ]
  },
  {
   "cell_type": "code",
   "execution_count": 53,
   "id": "729aaa3d",
   "metadata": {},
   "outputs": [],
   "source": [
    "del d6['launch data']"
   ]
  },
  {
   "cell_type": "code",
   "execution_count": 54,
   "id": "667d7665",
   "metadata": {},
   "outputs": [
    {
     "data": {
      "text/plain": [
       "{'number': [1, 2, 3, 4, 5, 6, 7, 8],\n",
       " 'assignment': (1, 2, 4, 7, 9, 6, 4, 2, 1),\n",
       " 'class timing': {'web development': 3,\n",
       "  'data science': 9,\n",
       "  'java with system design': 9},\n",
       " 'mentor': ['sudhansgu', 'krish', 'anurag', 'hyder']}"
      ]
     },
     "execution_count": 54,
     "metadata": {},
     "output_type": "execute_result"
    }
   ],
   "source": [
    "d6"
   ]
  },
  {
   "cell_type": "code",
   "execution_count": 56,
   "id": "79dcf098",
   "metadata": {},
   "outputs": [
    {
     "data": {
      "text/plain": [
       "dict_keys(['number', 'assignment', 'class timing', 'mentor'])"
      ]
     },
     "execution_count": 56,
     "metadata": {},
     "output_type": "execute_result"
    }
   ],
   "source": [
    "d6.keys()"
   ]
  },
  {
   "cell_type": "code",
   "execution_count": 57,
   "id": "5830cafe",
   "metadata": {},
   "outputs": [
    {
     "data": {
      "text/plain": [
       "['number', 'assignment', 'class timing', 'mentor']"
      ]
     },
     "execution_count": 57,
     "metadata": {},
     "output_type": "execute_result"
    }
   ],
   "source": [
    "list(d6.keys())"
   ]
  },
  {
   "cell_type": "code",
   "execution_count": 58,
   "id": "017be40d",
   "metadata": {},
   "outputs": [
    {
     "data": {
      "text/plain": [
       "[[1, 2, 3, 4, 5, 6, 7, 8],\n",
       " (1, 2, 4, 7, 9, 6, 4, 2, 1),\n",
       " {'web development': 3, 'data science': 9, 'java with system design': 9},\n",
       " ['sudhansgu', 'krish', 'anurag', 'hyder']]"
      ]
     },
     "execution_count": 58,
     "metadata": {},
     "output_type": "execute_result"
    }
   ],
   "source": [
    "list(d6.values())"
   ]
  },
  {
   "cell_type": "code",
   "execution_count": 59,
   "id": "e9f0b4b5",
   "metadata": {},
   "outputs": [
    {
     "data": {
      "text/plain": [
       "dict_items([('number', [1, 2, 3, 4, 5, 6, 7, 8]), ('assignment', (1, 2, 4, 7, 9, 6, 4, 2, 1)), ('class timing', {'web development': 3, 'data science': 9, 'java with system design': 9}), ('mentor', ['sudhansgu', 'krish', 'anurag', 'hyder'])])"
      ]
     },
     "execution_count": 59,
     "metadata": {},
     "output_type": "execute_result"
    }
   ],
   "source": [
    "d6.items()"
   ]
  },
  {
   "cell_type": "code",
   "execution_count": 60,
   "id": "3b21d48c",
   "metadata": {},
   "outputs": [
    {
     "data": {
      "text/plain": [
       "[('number', [1, 2, 3, 4, 5, 6, 7, 8]),\n",
       " ('assignment', (1, 2, 4, 7, 9, 6, 4, 2, 1)),\n",
       " ('class timing',\n",
       "  {'web development': 3, 'data science': 9, 'java with system design': 9}),\n",
       " ('mentor', ['sudhansgu', 'krish', 'anurag', 'hyder'])]"
      ]
     },
     "execution_count": 60,
     "metadata": {},
     "output_type": "execute_result"
    }
   ],
   "source": [
    "list(d6.items())"
   ]
  },
  {
   "cell_type": "code",
   "execution_count": 61,
   "id": "0cde308b",
   "metadata": {},
   "outputs": [
    {
     "data": {
      "text/plain": [
       "(1, 2, 4, 7, 9, 6, 4, 2, 1)"
      ]
     },
     "execution_count": 61,
     "metadata": {},
     "output_type": "execute_result"
    }
   ],
   "source": [
    "d6.pop('assignment')"
   ]
  },
  {
   "cell_type": "code",
   "execution_count": 62,
   "id": "681386da",
   "metadata": {},
   "outputs": [
    {
     "data": {
      "text/plain": [
       "{'number': [1, 2, 3, 4, 5, 6, 7, 8],\n",
       " 'class timing': {'web development': 3,\n",
       "  'data science': 9,\n",
       "  'java with system design': 9},\n",
       " 'mentor': ['sudhansgu', 'krish', 'anurag', 'hyder']}"
      ]
     },
     "execution_count": 62,
     "metadata": {},
     "output_type": "execute_result"
    }
   ],
   "source": [
    "d6"
   ]
  },
  {
   "cell_type": "code",
   "execution_count": 63,
   "id": "31dc0a66",
   "metadata": {},
   "outputs": [
    {
     "ename": "TypeError",
     "evalue": "pop expected at least 1 argument, got 0",
     "output_type": "error",
     "traceback": [
      "\u001b[1;31m---------------------------------------------------------------------------\u001b[0m",
      "\u001b[1;31mTypeError\u001b[0m                                 Traceback (most recent call last)",
      "Cell \u001b[1;32mIn[63], line 1\u001b[0m\n\u001b[1;32m----> 1\u001b[0m d6\u001b[38;5;241m.\u001b[39mpop()\n",
      "\u001b[1;31mTypeError\u001b[0m: pop expected at least 1 argument, got 0"
     ]
    }
   ],
   "source": [
    "d6.pop()"
   ]
  },
  {
   "cell_type": "code",
   "execution_count": 70,
   "id": "f66d8ddf",
   "metadata": {},
   "outputs": [
    {
     "name": "stdout",
     "output_type": "stream",
     "text": [
      "enter the marks that you have obtained in sessional exam 34\n",
      "you are in below avegage condition \n"
     ]
    }
   ],
   "source": [
    "marks=int(input(\"enter the marks that you have obtained in sessional exam \"))\n",
    "if marks>=80:\n",
    "    print(\"congratulation you have scored excellent marks in the above examination \")\n",
    "elif marks<=80 and marks>=60:\n",
    "    print(\"you are in average condition improvment required \")\n",
    "elif marks<=60 and marks>=33:\n",
    "    print(\"you are in below avegage condition \")\n",
    "else:\n",
    "    print(\"you failed to qualify this sessional exam \")\n",
    "    \n",
    "    "
   ]
  },
  {
   "cell_type": "code",
   "execution_count": 71,
   "id": "f4737423",
   "metadata": {},
   "outputs": [
    {
     "data": {
      "text/plain": [
       "False"
      ]
     },
     "execution_count": 71,
     "metadata": {},
     "output_type": "execute_result"
    }
   ],
   "source": [
    "10>=40"
   ]
  },
  {
   "cell_type": "code",
   "execution_count": 72,
   "id": "cbee2f87",
   "metadata": {},
   "outputs": [
    {
     "name": "stdout",
     "output_type": "stream",
     "text": [
      "67\n"
     ]
    },
    {
     "data": {
      "text/plain": [
       "'67'"
      ]
     },
     "execution_count": 72,
     "metadata": {},
     "output_type": "execute_result"
    }
   ],
   "source": [
    "input()"
   ]
  },
  {
   "cell_type": "code",
   "execution_count": 74,
   "id": "c682b01c",
   "metadata": {},
   "outputs": [
    {
     "data": {
      "text/plain": [
       "str"
      ]
     },
     "execution_count": 74,
     "metadata": {},
     "output_type": "execute_result"
    }
   ],
   "source": [
    "type('67')"
   ]
  },
  {
   "cell_type": "code",
   "execution_count": 75,
   "id": "364f42e1",
   "metadata": {},
   "outputs": [
    {
     "data": {
      "text/plain": [
       "67"
      ]
     },
     "execution_count": 75,
     "metadata": {},
     "output_type": "execute_result"
    }
   ],
   "source": [
    "int(\"67\")"
   ]
  },
  {
   "cell_type": "code",
   "execution_count": 78,
   "id": "b2e73223",
   "metadata": {},
   "outputs": [
    {
     "name": "stdout",
     "output_type": "stream",
     "text": [
      "804444444444444444444444444\n"
     ]
    },
    {
     "data": {
      "text/plain": [
       "'804444444444444444444444444'"
      ]
     },
     "execution_count": 78,
     "metadata": {},
     "output_type": "execute_result"
    }
   ],
   "source": [
    "input()"
   ]
  },
  {
   "cell_type": "code",
   "execution_count": 79,
   "id": "91a06ab4",
   "metadata": {},
   "outputs": [
    {
     "name": "stdout",
     "output_type": "stream",
     "text": [
      "enter the value700\n",
      "i will purchase \n"
     ]
    }
   ],
   "source": [
    "price=int(input(\"enter the value\"))\n",
    "if price > 1000:\n",
    "    print(\"i will not purchase\")\n",
    "else:\n",
    "    print(\"i will purchase \")"
   ]
  },
  {
   "cell_type": "code",
   "execution_count": 85,
   "id": "5c4bf9bb",
   "metadata": {},
   "outputs": [
    {
     "name": "stdout",
     "output_type": "stream",
     "text": [
      "enter the value1700\n",
      "i will not purchase\n",
      "its ok\n"
     ]
    }
   ],
   "source": [
    "price=int(input(\"enter the value\"))\n",
    "if price > 1000:\n",
    "    print(\"i will not purchase\")\n",
    "    if price > 5000:\n",
    "       print(\"this is too much \")\n",
    "    elif price < 2000:\n",
    "        print(\"its ok\")"
   ]
  },
  {
   "cell_type": "raw",
   "id": "97b5df13",
   "metadata": {},
   "source": [
    "loop for and while"
   ]
  },
  {
   "cell_type": "code",
   "execution_count": 88,
   "id": "d331c117",
   "metadata": {},
   "outputs": [],
   "source": [
    "l=[3,6,7,8,9,0,4,2,6,7,8,]"
   ]
  },
  {
   "cell_type": "code",
   "execution_count": 91,
   "id": "2f217c90",
   "metadata": {},
   "outputs": [
    {
     "name": "stdout",
     "output_type": "stream",
     "text": [
      "3\n",
      "6\n",
      "7\n",
      "8\n",
      "9\n",
      "0\n",
      "4\n",
      "2\n",
      "6\n",
      "7\n",
      "8\n"
     ]
    }
   ],
   "source": [
    "for i in l:\n",
    "    print(i)"
   ]
  },
  {
   "cell_type": "code",
   "execution_count": 92,
   "id": "b3764f98",
   "metadata": {},
   "outputs": [
    {
     "name": "stdout",
     "output_type": "stream",
     "text": [
      "[3, 6, 7, 8, 9, 0, 4, 2, 6, 7, 8]\n",
      "[3, 6, 7, 8, 9, 0, 4, 2, 6, 7, 8]\n",
      "[3, 6, 7, 8, 9, 0, 4, 2, 6, 7, 8]\n",
      "[3, 6, 7, 8, 9, 0, 4, 2, 6, 7, 8]\n",
      "[3, 6, 7, 8, 9, 0, 4, 2, 6, 7, 8]\n",
      "[3, 6, 7, 8, 9, 0, 4, 2, 6, 7, 8]\n",
      "[3, 6, 7, 8, 9, 0, 4, 2, 6, 7, 8]\n",
      "[3, 6, 7, 8, 9, 0, 4, 2, 6, 7, 8]\n",
      "[3, 6, 7, 8, 9, 0, 4, 2, 6, 7, 8]\n",
      "[3, 6, 7, 8, 9, 0, 4, 2, 6, 7, 8]\n",
      "[3, 6, 7, 8, 9, 0, 4, 2, 6, 7, 8]\n"
     ]
    }
   ],
   "source": [
    "for i in l:\n",
    "    print(l)"
   ]
  },
  {
   "cell_type": "code",
   "execution_count": 99,
   "id": "66be3036",
   "metadata": {},
   "outputs": [
    {
     "name": "stdout",
     "output_type": "stream",
     "text": [
      "4\n",
      "7\n",
      "8\n",
      "9\n",
      "10\n",
      "1\n",
      "5\n",
      "3\n",
      "7\n",
      "8\n",
      "9\n",
      "[4, 7, 8, 9, 10, 1, 5, 3, 7, 8, 9]\n"
     ]
    }
   ],
   "source": [
    "l1=[]\n",
    "for i in l:\n",
    "    print(i+1)\n",
    "    l1.append(i+1)\n",
    "print(l1)\n",
    "    \n",
    "    "
   ]
  },
  {
   "cell_type": "code",
   "execution_count": 100,
   "id": "4bd5eee2",
   "metadata": {},
   "outputs": [
    {
     "data": {
      "text/plain": [
       "[3, 6, 7, 8, 9, 0, 4, 2, 6, 7, 8]"
      ]
     },
     "execution_count": 100,
     "metadata": {},
     "output_type": "execute_result"
    }
   ],
   "source": [
    "l"
   ]
  },
  {
   "cell_type": "code",
   "execution_count": 101,
   "id": "d7eeebc0",
   "metadata": {},
   "outputs": [
    {
     "data": {
      "text/plain": [
       "[4, 7, 8, 9, 10, 1, 5, 3, 7, 8, 9]"
      ]
     },
     "execution_count": 101,
     "metadata": {},
     "output_type": "execute_result"
    }
   ],
   "source": [
    "l1"
   ]
  },
  {
   "cell_type": "code",
   "execution_count": 102,
   "id": "8961537d",
   "metadata": {},
   "outputs": [],
   "source": [
    "l=[\"aishik\", \"paul\",\"pwskills\",\"atomic\",\"energy\",\"heavy water bird\"]"
   ]
  },
  {
   "cell_type": "code",
   "execution_count": 109,
   "id": "4c21e226",
   "metadata": {},
   "outputs": [
    {
     "name": "stdout",
     "output_type": "stream",
     "text": [
      "aishik\n",
      "paul\n",
      "pwskills\n",
      "atomic\n",
      "energy\n",
      "heavy water bird\n",
      "['AISHIK', 'PAUL', 'PWSKILLS', 'ATOMIC', 'ENERGY', 'HEAVY WATER BIRD']\n"
     ]
    }
   ],
   "source": [
    "l2=[]\n",
    "for i in l:\n",
    "    print(i)\n",
    "    l2.append(i.upper())\n",
    "print(l2)    "
   ]
  },
  {
   "cell_type": "code",
   "execution_count": 107,
   "id": "76e03f44",
   "metadata": {},
   "outputs": [
    {
     "data": {
      "text/plain": [
       "['AISHIK', 'PAUL', 'PWSKILLS', 'ATOMIC', 'ENERGY', 'HEAVY WATER BIRD']"
      ]
     },
     "execution_count": 107,
     "metadata": {},
     "output_type": "execute_result"
    }
   ],
   "source": [
    "l2"
   ]
  },
  {
   "cell_type": "code",
   "execution_count": 1,
   "id": "b0d8188e",
   "metadata": {},
   "outputs": [
    {
     "name": "stdout",
     "output_type": "stream",
     "text": [
      "89\n"
     ]
    },
    {
     "data": {
      "text/plain": [
       "'89'"
      ]
     },
     "execution_count": 1,
     "metadata": {},
     "output_type": "execute_result"
    }
   ],
   "source": [
    "input()"
   ]
  },
  {
   "cell_type": "code",
   "execution_count": 5,
   "id": "a797a839",
   "metadata": {},
   "outputs": [],
   "source": [
    "l=[1,2,3,4,5,6,7,\"SUDH\", \"KUMAR\", 8994.098,\"ABC\"]"
   ]
  },
  {
   "cell_type": "code",
   "execution_count": 6,
   "id": "4a7fe440",
   "metadata": {},
   "outputs": [
    {
     "data": {
      "text/plain": [
       "[1, 2, 3, 4, 5, 6, 7, 'SUDH', 'KUMAR', 8994.098, 'ABC']"
      ]
     },
     "execution_count": 6,
     "metadata": {},
     "output_type": "execute_result"
    }
   ],
   "source": [
    "l"
   ]
  },
  {
   "cell_type": "code",
   "execution_count": 8,
   "id": "c593414c",
   "metadata": {},
   "outputs": [],
   "source": [
    "l1_num=[]\n",
    "l2_str=[]\n",
    "for i  in l :\n",
    "    if type(i)== int or type(i) == float:\n",
    "       l1_num.append(i)\n",
    "    else:\n",
    "        l2_str.append(i)\n",
    "        "
   ]
  },
  {
   "cell_type": "code",
   "execution_count": 9,
   "id": "c945046c",
   "metadata": {},
   "outputs": [
    {
     "data": {
      "text/plain": [
       "[1, 2, 3, 4, 5, 6, 7, 8994.098]"
      ]
     },
     "execution_count": 9,
     "metadata": {},
     "output_type": "execute_result"
    }
   ],
   "source": [
    "l1_num"
   ]
  },
  {
   "cell_type": "code",
   "execution_count": 11,
   "id": "8d3782dc",
   "metadata": {},
   "outputs": [
    {
     "data": {
      "text/plain": [
       "['SUDH', 'KUMAR', 'ABC']"
      ]
     },
     "execution_count": 11,
     "metadata": {},
     "output_type": "execute_result"
    }
   ],
   "source": [
    "l2_str"
   ]
  },
  {
   "cell_type": "code",
   "execution_count": null,
   "id": "6054c9cd",
   "metadata": {},
   "outputs": [],
   "source": []
  }
 ],
 "metadata": {
  "kernelspec": {
   "display_name": "Python 3 (ipykernel)",
   "language": "python",
   "name": "python3"
  },
  "language_info": {
   "codemirror_mode": {
    "name": "ipython",
    "version": 3
   },
   "file_extension": ".py",
   "mimetype": "text/x-python",
   "name": "python",
   "nbconvert_exporter": "python",
   "pygments_lexer": "ipython3",
   "version": "3.11.5"
  }
 },
 "nbformat": 4,
 "nbformat_minor": 5
}
